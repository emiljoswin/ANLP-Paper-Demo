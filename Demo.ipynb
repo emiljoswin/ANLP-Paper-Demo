{
 "cells": [
  {
   "cell_type": "markdown",
   "metadata": {},
   "source": [
    "# Sentiment 140 Demo"
   ]
  },
  {
   "cell_type": "code",
   "execution_count": 1,
   "metadata": {},
   "outputs": [
    {
     "name": "stdout",
     "output_type": "stream",
     "text": [
      "http://www.sentiment140.com/api/bulkClassifyJson?appid=joswine@vcu.edu\n"
     ]
    }
   ],
   "source": [
    "import requests\n",
    "\n",
    "APP_ID = 'joswine@vcu.edu'\n",
    "URL = \"http://www.sentiment140.com/api/bulkClassifyJson?appid=\" + APP_ID\n",
    "\n",
    "print(URL)\n",
    "\n",
    "import json\n",
    "def send_request(data):\n",
    "\n",
    "    r = requests.post(URL, data=data)\n",
    "    if r.status_code == 200:\n",
    "        try:\n",
    "            response = json.loads(r.text)\n",
    "            polarity = response['data'][0]['polarity']\n",
    "            if polarity == 4:\n",
    "                return \"Positive\"\n",
    "            elif polarity == 0:\n",
    "                return \"Negative\"\n",
    "            else:\n",
    "                return \"Neutral\"\n",
    "        except Exception as e:\n",
    "            print(\"Exception\")\n",
    "            print(e.message)\n",
    "            "
   ]
  },
  {
   "cell_type": "code",
   "execution_count": 2,
   "metadata": {},
   "outputs": [
    {
     "name": "stdout",
     "output_type": "stream",
     "text": [
      "Neutral\n"
     ]
    }
   ],
   "source": [
    "import json\n",
    "data = [\n",
    "    {\n",
    "        \"text\": \"Hi, You are bad!\"\n",
    "    }\n",
    "]\n",
    "payload = {'data': data}\n",
    "resp = send_request(json.dumps(payload))\n",
    "print(resp)\n"
   ]
  },
  {
   "cell_type": "markdown",
   "metadata": {},
   "source": [
    "## Naive Bayes Classifier - Movie reviews\n",
    "\n"
   ]
  },
  {
   "cell_type": "code",
   "execution_count": 22,
   "metadata": {},
   "outputs": [
    {
     "name": "stdout",
     "output_type": "stream",
     "text": [
      "['films', 'adapted', 'from', 'comic', 'books', 'have', 'had', 'plenty', 'of', 'success', ',', 'whether', 'they', \"'\", 're', 'about', 'superheroes', '(', 'batman', ',', 'superman', ',', 'spawn', ')', ',']\n"
     ]
    }
   ],
   "source": [
    "\n",
    "# Do this if you are haven't already downloaded the corpus\n",
    "# nltk.download('movie_reviews') \n",
    "from nltk.corpus import movie_reviews\n",
    "\n",
    "movie_reviews.categories() # ['pos', 'neg']\n",
    "movie_reviews.fileids('pos') \n",
    "\n",
    "negids = movie_reviews.fileids('neg') \n",
    "posids = movie_reviews.fileids('pos') \n",
    "\n",
    "a = movie_reviews.words(fileids=['pos/cv000_29590.txt']) # gives full word list, with duplicates\n",
    "print(a[:25])"
   ]
  },
  {
   "cell_type": "code",
   "execution_count": 34,
   "metadata": {},
   "outputs": [
    {
     "name": "stdout",
     "output_type": "stream",
     "text": [
      "train on %d instances, test on %d instances (1500, 500)\n",
      "accuracy: 0.728\n"
     ]
    }
   ],
   "source": [
    "import nltk.classify.util\n",
    "from nltk.classify import NaiveBayesClassifier\n",
    "\n",
    "def word_feats(words):\n",
    "    return dict([(word, True) for word in words])\n",
    "\n",
    "negids = movie_reviews.fileids('neg')\n",
    "posids = movie_reviews.fileids('pos')\n",
    "\n",
    "# print((word_feats(movie_reviews.words(fileids=['pos/cv000_29590.txt'])), 'neg'))\n",
    "negfeats = [(word_feats(movie_reviews.words(fileids=[f])), 'neg') for f in negids]\n",
    "posfeats = [(word_feats(movie_reviews.words(fileids=[f])), 'pos') for f in posids]\n",
    "\n",
    "# len(negfeats)\n",
    "\n",
    "negcutoff = int(len(negfeats)*3/4)\n",
    "poscutoff = int(len(posfeats)*3/4)\n",
    "\n",
    "trainfeats = negfeats[:negcutoff] + posfeats[:poscutoff]\n",
    "testfeats = negfeats[negcutoff:] + posfeats[poscutoff:]\n",
    "print( 'train on %d instances, test on %d instances' , (len(trainfeats), len(testfeats)) )\n",
    "\n",
    "classifier = NaiveBayesClassifier.train(trainfeats)\n",
    "\n",
    "print( 'accuracy:', nltk.classify.util.accuracy(classifier, testfeats) )\n",
    "\n"
   ]
  },
  {
   "cell_type": "code",
   "execution_count": null,
   "metadata": {},
   "outputs": [],
   "source": [
    "classifier.show_most_informative_features()\n"
   ]
  },
  {
   "cell_type": "code",
   "execution_count": 24,
   "metadata": {},
   "outputs": [
    {
     "data": {
      "text/plain": [
       "'neg'"
      ]
     },
     "execution_count": 24,
     "metadata": {},
     "output_type": "execute_result"
    }
   ],
   "source": [
    "pos_r1 = \"\"\"With great visuals, lovely set design, and interesting stories that contain \n",
    "    a lot of classic elements as well as some great twists, 'Trick 'r' Treat' is an anthology\n",
    "    of interconnected stories that is all about reminding you what Halloween is about and \n",
    "    reconnecting you with that gleeful feeling you had when you were a kid, running around \n",
    "    trick 'r' treating in your costume. Michael Dougherty has crafted the perfect Halloween\n",
    "    atmosphere here, but it may not be to everyone's liking with its somewhat camp tone. It's not\n",
    "    going to scare your pants off, but it sure is a ridiculous amount of fun and, to me, it is\n",
    "    the ultimate Halloween viewing and a must-watch when October rolls around. \"\"\"\n",
    "\n",
    "pos_r2 = \"magnificent outstanding insulting fascination astounding\"\n",
    "\n",
    "neg_r1 = \"\"\"This year (2017) I finally caved in and watched Trick 'r Treat . . . \n",
    "        and what a straight up boring movie it was.\n",
    "        Not a single story was entertaining. \n",
    "        Sam and the dog are cute, that's the only good I can say.\"\"\"\n",
    "\n",
    "neg_r2 = \"\"\"A hodgepodge that occasionally entertains.\"\"\"\n",
    "\n",
    "def word_feats2(words):\n",
    "    words = words.split(' ')\n",
    "    return dict([(word, True) for word in words])\n",
    "\n",
    "classifier.classify(word_feats2(neg_r2))"
   ]
  },
  {
   "cell_type": "markdown",
   "metadata": {},
   "source": [
    "### Movie Reviews - Naive Bayes with bigrams"
   ]
  },
  {
   "cell_type": "code",
   "execution_count": 99,
   "metadata": {},
   "outputs": [],
   "source": [
    "# print(trainfeats[2])\n",
    "from nltk.tokenize import RegexpTokenizer\n",
    "import string\n",
    "\n",
    "tokens = {ord(c):'' for c in string.punctuation + string.digits}\n",
    "\n",
    "def ngram_words_feat(words, n):\n",
    "    words = words.translate(d)\n",
    "    words = words.split()\n",
    "    if n == 1:\n",
    "       return dict([(word, True) for word in words]) \n",
    "    elif n == 2:\n",
    "        tupl = zip( words[:-1], words[1:] )\n",
    "    elif n == 3:\n",
    "        tupl = zip( words[:-1], words[1:], words[2:] )\n",
    "    elif n == 4:\n",
    "        tupl = zip( words[:-1], words[1:], words[2:], words[3:] )\n",
    "    else:\n",
    "        tupl = zip( words[:-1], words[1:], words[2:], words[3:], words[4:] )\n",
    "    \n",
    "    return dict( [ (bigr, True) for bigr in tupl ] )\n",
    "\n",
    "\n",
    "def run(n):\n",
    "    negfeats = [(ngram_words_feat(movie_reviews.raw(fileids=[f]), n), 'neg') for f in negids]\n",
    "    posfeats = [(ngram_words_feat(movie_reviews.raw(fileids=[f]), n), 'pos') for f in posids]\n",
    "\n",
    "    negcutoff = int(len(negfeats)*3/4)\n",
    "    poscutoff = int(len(posfeats)*3/4)\n",
    "\n",
    "    trainfeats = negfeats[:negcutoff] + posfeats[:poscutoff]\n",
    "    testfeats = negfeats[negcutoff:] + posfeats[poscutoff:]\n",
    "\n",
    "    print( 'train on %d instances, test on %d instances' , (len(trainfeats), len(testfeats)) )\n",
    "\n",
    "    classifier = NaiveBayesClassifier.train(trainfeats)\n",
    "    \n",
    "    return nltk.classify.util.accuracy(classifier, testfeats)\n",
    "#     print( 'accuracy:', nltk.classify.util.accuracy(classifier, testfeats) )\n",
    "\n",
    "\n"
   ]
  },
  {
   "cell_type": "code",
   "execution_count": 100,
   "metadata": {},
   "outputs": [
    {
     "name": "stdout",
     "output_type": "stream",
     "text": [
      " Running 1 gram\n",
      "train on %d instances, test on %d instances (1500, 500)\n",
      "Accuracy obtained : 0.72\n",
      " Running 2 gram\n",
      "train on %d instances, test on %d instances (1500, 500)\n",
      "Accuracy obtained : 0.754\n",
      " Running 3 gram\n",
      "train on %d instances, test on %d instances (1500, 500)\n",
      "Accuracy obtained : 0.786\n",
      " Running 4 gram\n",
      "train on %d instances, test on %d instances (1500, 500)\n",
      "Accuracy obtained : 0.754\n",
      " Running 5 gram\n",
      "train on %d instances, test on %d instances (1500, 500)\n",
      "Accuracy obtained : 0.674\n"
     ]
    }
   ],
   "source": [
    "# accuracy = run(1)\n",
    "ns = range(1,8)\n",
    "accuracies = []\n",
    "for i in ns:\n",
    "    print(\" Running %d gram\" %(i) )\n",
    "    acc = run(i)\n",
    "#     print(type(acc))\n",
    "    print( \"Accuracy obtained :\" ,acc )\n",
    "    accuracies.append(acc)\n"
   ]
  },
  {
   "cell_type": "code",
   "execution_count": 108,
   "metadata": {},
   "outputs": [
    {
     "data": {
      "image/png": "[encoded data removed]",
      "text/plain": [
       "<Figure size 432x288 with 1 Axes>"
      ]
     },
     "metadata": {
      "needs_background": "light"
     },
     "output_type": "display_data"
    }
   ],
   "source": [
    "%matplotlib inline\n",
    "import matplotlib.pyplot as plt\n",
    "accuracies = [1-i for i in accuracies]\n",
    "plt.plot(ns, accuracies, 'ro')\n",
    "plt.xlabel('Ngrams')\n",
    "plt.ylabel('Error')\n",
    "plt.show()"
   ]
  },
  {
   "cell_type": "code",
   "execution_count": null,
   "metadata": {},
   "outputs": [],
   "source": []
  }
 ],
 "metadata": {
  "kernelspec": {
   "display_name": "Python 3",
   "language": "python",
   "name": "python3"
  },
  "language_info": {
   "codemirror_mode": {
    "name": "ipython",
    "version": 3
   },
   "file_extension": ".py",
   "mimetype": "text/x-python",
   "name": "python",
   "nbconvert_exporter": "python",
   "pygments_lexer": "ipython3",
   "version": "3.7.0"
  }
 },
 "nbformat": 4,
 "nbformat_minor": 2
}
